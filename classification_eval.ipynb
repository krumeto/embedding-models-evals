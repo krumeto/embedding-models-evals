{
 "cells": [
  {
   "cell_type": "code",
   "execution_count": 16,
   "metadata": {},
   "outputs": [],
   "source": [
    "from tqdm import tqdm\n",
    "\n",
    "import pandas as pd\n",
    "\n",
    "from sentence_transformers import SentenceTransformer\n",
    "from sentence_transformers.models import StaticEmbedding\n",
    "\n",
    "from sklearn.linear_model import LogisticRegression\n",
    "from sklearn.model_selection import RepeatedStratifiedKFold, cross_validate"
   ]
  },
  {
   "cell_type": "markdown",
   "metadata": {},
   "source": [
    "## Pull the data (gitignored)"
   ]
  },
  {
   "cell_type": "code",
   "execution_count": 51,
   "metadata": {},
   "outputs": [],
   "source": [
    "text_df = pd.read_csv(\"data/content_only.csv\")\n",
    "metadata_df = pd.read_csv(\"data/metadata_only.csv\").rename({\"ID на статия\": \"ID\"}, axis=1)\n",
    "\n",
    "full_data = text_df.merge(metadata_df, how='left').drop_duplicates(subset = ['ID', 'Text']) # note duplicate entries per id\n",
    "# We have a number of options, but for example\n",
    "\n",
    "text = full_data.Text.to_list()\n",
    "\n",
    "top_n = 6\n",
    "# Get the top N most frequent codes\n",
    "top_codes = full_data[\"rootnode нс основна рубрика\"].value_counts().nlargest(top_n).index\n",
    "y = full_data[\"rootnode нс основна рубрика\"].apply(lambda x: x if x in top_codes else 0)"
   ]
  },
  {
   "cell_type": "code",
   "execution_count": 52,
   "metadata": {},
   "outputs": [
    {
     "name": "stderr",
     "output_type": "stream",
     "text": [
      "  0%|                                                                                                                                       | 0/4 [00:00<?, ?it/s]"
     ]
    },
    {
     "name": "stdout",
     "output_type": "stream",
     "text": [
      "Complete embeddings with sentence-transformers/static-similarity-mrl-multilingual-v1\n"
     ]
    },
    {
     "name": "stderr",
     "output_type": "stream",
     "text": [
      " 25%|███████████████████████████████▌                                                                                              | 1/4 [05:26<16:18, 326.27s/it]"
     ]
    },
    {
     "name": "stdout",
     "output_type": "stream",
     "text": [
      "Done with sentence-transformers/static-similarity-mrl-multilingual-v1\n",
      "Complete embeddings with intfloat/multilingual-e5-small\n"
     ]
    },
    {
     "name": "stderr",
     "output_type": "stream",
     "text": [
      " 50%|███████████████████████████████████████████████████████████████                                                               | 2/4 [18:09<19:26, 583.11s/it]"
     ]
    },
    {
     "name": "stdout",
     "output_type": "stream",
     "text": [
      "Done with intfloat/multilingual-e5-small\n",
      "Complete embeddings with sentence-transformers/paraphrase-multilingual-MiniLM-L12-v2\n"
     ]
    },
    {
     "name": "stderr",
     "output_type": "stream",
     "text": [
      " 75%|██████████████████████████████████████████████████████████████████████████████████████████████▌                               | 3/4 [30:47<11:03, 663.13s/it]"
     ]
    },
    {
     "name": "stdout",
     "output_type": "stream",
     "text": [
      "Done with sentence-transformers/paraphrase-multilingual-MiniLM-L12-v2\n",
      "Complete embeddings with sentence-transformers/paraphrase-multilingual-mpnet-base-v2\n"
     ]
    },
    {
     "name": "stderr",
     "output_type": "stream",
     "text": [
      "100%|███████████████████████████████████████████████████████████████████████████████████████████████████████████████████████████| 4/4 [1:08:05<00:00, 1021.27s/it]"
     ]
    },
    {
     "name": "stdout",
     "output_type": "stream",
     "text": [
      "Done with sentence-transformers/paraphrase-multilingual-mpnet-base-v2\n"
     ]
    },
    {
     "name": "stderr",
     "output_type": "stream",
     "text": [
      "\n"
     ]
    },
    {
     "data": {
      "text/html": [
       "<style type=\"text/css\">\n",
       "#T_b4ab3_row2_col0, #T_b4ab3_row2_col1, #T_b4ab3_row2_col2, #T_b4ab3_row2_col3, #T_b4ab3_row3_col0, #T_b4ab3_row3_col1, #T_b4ab3_row3_col2, #T_b4ab3_row3_col3, #T_b4ab3_row6_col0, #T_b4ab3_row6_col1, #T_b4ab3_row6_col2, #T_b4ab3_row6_col3, #T_b4ab3_row7_col0, #T_b4ab3_row7_col1, #T_b4ab3_row7_col2, #T_b4ab3_row7_col3, #T_b4ab3_row10_col0, #T_b4ab3_row10_col1, #T_b4ab3_row10_col2, #T_b4ab3_row10_col3, #T_b4ab3_row11_col0, #T_b4ab3_row11_col1, #T_b4ab3_row11_col2, #T_b4ab3_row11_col3 {\n",
       "  font-weight: bold;\n",
       "}\n",
       "</style>\n",
       "<table id=\"T_b4ab3\">\n",
       "  <thead>\n",
       "    <tr>\n",
       "      <th class=\"blank\" >&nbsp;</th>\n",
       "      <th class=\"index_name level0\" >model_name</th>\n",
       "      <th id=\"T_b4ab3_level0_col0\" class=\"col_heading level0 col0\" >intfloat/multilingual-e5-small</th>\n",
       "      <th id=\"T_b4ab3_level0_col1\" class=\"col_heading level0 col1\" >sentence-transformers/paraphrase-multilingual-MiniLM-L12-v2</th>\n",
       "      <th id=\"T_b4ab3_level0_col2\" class=\"col_heading level0 col2\" >sentence-transformers/paraphrase-multilingual-mpnet-base-v2</th>\n",
       "      <th id=\"T_b4ab3_level0_col3\" class=\"col_heading level0 col3\" >sentence-transformers/static-similarity-mrl-multilingual-v1</th>\n",
       "    </tr>\n",
       "  </thead>\n",
       "  <tbody>\n",
       "    <tr>\n",
       "      <th id=\"T_b4ab3_level0_row0\" class=\"row_heading level0 row0\" rowspan=\"2\">train_accuracy</th>\n",
       "      <th id=\"T_b4ab3_level1_row0\" class=\"row_heading level1 row0\" >mean</th>\n",
       "      <td id=\"T_b4ab3_row0_col0\" class=\"data row0 col0\" >0.729</td>\n",
       "      <td id=\"T_b4ab3_row0_col1\" class=\"data row0 col1\" >0.754</td>\n",
       "      <td id=\"T_b4ab3_row0_col2\" class=\"data row0 col2\" >0.750</td>\n",
       "      <td id=\"T_b4ab3_row0_col3\" class=\"data row0 col3\" >0.990</td>\n",
       "    </tr>\n",
       "    <tr>\n",
       "      <th id=\"T_b4ab3_level1_row1\" class=\"row_heading level1 row1\" >std</th>\n",
       "      <td id=\"T_b4ab3_row1_col0\" class=\"data row1 col0\" >0.005</td>\n",
       "      <td id=\"T_b4ab3_row1_col1\" class=\"data row1 col1\" >0.004</td>\n",
       "      <td id=\"T_b4ab3_row1_col2\" class=\"data row1 col2\" >0.005</td>\n",
       "      <td id=\"T_b4ab3_row1_col3\" class=\"data row1 col3\" >0.002</td>\n",
       "    </tr>\n",
       "    <tr>\n",
       "      <th id=\"T_b4ab3_level0_row2\" class=\"row_heading level0 row2\" rowspan=\"2\">test_accuracy</th>\n",
       "      <th id=\"T_b4ab3_level1_row2\" class=\"row_heading level1 row2\" >mean</th>\n",
       "      <td id=\"T_b4ab3_row2_col0\" class=\"data row2 col0\" >0.694</td>\n",
       "      <td id=\"T_b4ab3_row2_col1\" class=\"data row2 col1\" >0.702</td>\n",
       "      <td id=\"T_b4ab3_row2_col2\" class=\"data row2 col2\" >0.704</td>\n",
       "      <td id=\"T_b4ab3_row2_col3\" class=\"data row2 col3\" >0.760</td>\n",
       "    </tr>\n",
       "    <tr>\n",
       "      <th id=\"T_b4ab3_level1_row3\" class=\"row_heading level1 row3\" >std</th>\n",
       "      <td id=\"T_b4ab3_row3_col0\" class=\"data row3 col0\" >0.032</td>\n",
       "      <td id=\"T_b4ab3_row3_col1\" class=\"data row3 col1\" >0.029</td>\n",
       "      <td id=\"T_b4ab3_row3_col2\" class=\"data row3 col2\" >0.035</td>\n",
       "      <td id=\"T_b4ab3_row3_col3\" class=\"data row3 col3\" >0.026</td>\n",
       "    </tr>\n",
       "    <tr>\n",
       "      <th id=\"T_b4ab3_level0_row4\" class=\"row_heading level0 row4\" rowspan=\"2\">train_balanced_accuracy</th>\n",
       "      <th id=\"T_b4ab3_level1_row4\" class=\"row_heading level1 row4\" >mean</th>\n",
       "      <td id=\"T_b4ab3_row4_col0\" class=\"data row4 col0\" >0.875</td>\n",
       "      <td id=\"T_b4ab3_row4_col1\" class=\"data row4 col1\" >0.898</td>\n",
       "      <td id=\"T_b4ab3_row4_col2\" class=\"data row4 col2\" >0.886</td>\n",
       "      <td id=\"T_b4ab3_row4_col3\" class=\"data row4 col3\" >0.997</td>\n",
       "    </tr>\n",
       "    <tr>\n",
       "      <th id=\"T_b4ab3_level1_row5\" class=\"row_heading level1 row5\" >std</th>\n",
       "      <td id=\"T_b4ab3_row5_col0\" class=\"data row5 col0\" >0.004</td>\n",
       "      <td id=\"T_b4ab3_row5_col1\" class=\"data row5 col1\" >0.003</td>\n",
       "      <td id=\"T_b4ab3_row5_col2\" class=\"data row5 col2\" >0.004</td>\n",
       "      <td id=\"T_b4ab3_row5_col3\" class=\"data row5 col3\" >0.001</td>\n",
       "    </tr>\n",
       "    <tr>\n",
       "      <th id=\"T_b4ab3_level0_row6\" class=\"row_heading level0 row6\" rowspan=\"2\">test_balanced_accuracy</th>\n",
       "      <th id=\"T_b4ab3_level1_row6\" class=\"row_heading level1 row6\" >mean</th>\n",
       "      <td id=\"T_b4ab3_row6_col0\" class=\"data row6 col0\" >0.781</td>\n",
       "      <td id=\"T_b4ab3_row6_col1\" class=\"data row6 col1\" >0.765</td>\n",
       "      <td id=\"T_b4ab3_row6_col2\" class=\"data row6 col2\" >0.762</td>\n",
       "      <td id=\"T_b4ab3_row6_col3\" class=\"data row6 col3\" >0.716</td>\n",
       "    </tr>\n",
       "    <tr>\n",
       "      <th id=\"T_b4ab3_level1_row7\" class=\"row_heading level1 row7\" >std</th>\n",
       "      <td id=\"T_b4ab3_row7_col0\" class=\"data row7 col0\" >0.050</td>\n",
       "      <td id=\"T_b4ab3_row7_col1\" class=\"data row7 col1\" >0.052</td>\n",
       "      <td id=\"T_b4ab3_row7_col2\" class=\"data row7 col2\" >0.054</td>\n",
       "      <td id=\"T_b4ab3_row7_col3\" class=\"data row7 col3\" >0.054</td>\n",
       "    </tr>\n",
       "    <tr>\n",
       "      <th id=\"T_b4ab3_level0_row8\" class=\"row_heading level0 row8\" rowspan=\"2\">train_f1_weighted</th>\n",
       "      <th id=\"T_b4ab3_level1_row8\" class=\"row_heading level1 row8\" >mean</th>\n",
       "      <td id=\"T_b4ab3_row8_col0\" class=\"data row8 col0\" >0.743</td>\n",
       "      <td id=\"T_b4ab3_row8_col1\" class=\"data row8 col1\" >0.767</td>\n",
       "      <td id=\"T_b4ab3_row8_col2\" class=\"data row8 col2\" >0.760</td>\n",
       "      <td id=\"T_b4ab3_row8_col3\" class=\"data row8 col3\" >0.990</td>\n",
       "    </tr>\n",
       "    <tr>\n",
       "      <th id=\"T_b4ab3_level1_row9\" class=\"row_heading level1 row9\" >std</th>\n",
       "      <td id=\"T_b4ab3_row9_col0\" class=\"data row9 col0\" >0.005</td>\n",
       "      <td id=\"T_b4ab3_row9_col1\" class=\"data row9 col1\" >0.004</td>\n",
       "      <td id=\"T_b4ab3_row9_col2\" class=\"data row9 col2\" >0.005</td>\n",
       "      <td id=\"T_b4ab3_row9_col3\" class=\"data row9 col3\" >0.002</td>\n",
       "    </tr>\n",
       "    <tr>\n",
       "      <th id=\"T_b4ab3_level0_row10\" class=\"row_heading level0 row10\" rowspan=\"2\">test_f1_weighted</th>\n",
       "      <th id=\"T_b4ab3_level1_row10\" class=\"row_heading level1 row10\" >mean</th>\n",
       "      <td id=\"T_b4ab3_row10_col0\" class=\"data row10 col0\" >0.712</td>\n",
       "      <td id=\"T_b4ab3_row10_col1\" class=\"data row10 col1\" >0.720</td>\n",
       "      <td id=\"T_b4ab3_row10_col2\" class=\"data row10 col2\" >0.719</td>\n",
       "      <td id=\"T_b4ab3_row10_col3\" class=\"data row10 col3\" >0.761</td>\n",
       "    </tr>\n",
       "    <tr>\n",
       "      <th id=\"T_b4ab3_level1_row11\" class=\"row_heading level1 row11\" >std</th>\n",
       "      <td id=\"T_b4ab3_row11_col0\" class=\"data row11 col0\" >0.031</td>\n",
       "      <td id=\"T_b4ab3_row11_col1\" class=\"data row11 col1\" >0.027</td>\n",
       "      <td id=\"T_b4ab3_row11_col2\" class=\"data row11 col2\" >0.034</td>\n",
       "      <td id=\"T_b4ab3_row11_col3\" class=\"data row11 col3\" >0.025</td>\n",
       "    </tr>\n",
       "  </tbody>\n",
       "</table>\n"
      ],
      "text/plain": [
       "<pandas.io.formats.style.Styler at 0x1303ce4a0>"
      ]
     },
     "execution_count": 52,
     "metadata": {},
     "output_type": "execute_result"
    }
   ],
   "source": [
    "embedding_models = [    \n",
    "    \"sentence-transformers/static-similarity-mrl-multilingual-v1\",\n",
    "    \"intfloat/multilingual-e5-small\", # passage: \n",
    "    \"sentence-transformers/paraphrase-multilingual-MiniLM-L12-v2\",\n",
    "    \"sentence-transformers/paraphrase-multilingual-mpnet-base-v2\",\n",
    "    # very slow\n",
    "    # \"Snowflake/snowflake-arctic-embed-m-v2.0\"\n",
    "]\n",
    "\n",
    "report = pd.DataFrame()\n",
    "\n",
    "for model_name in tqdm(embedding_models):\n",
    "    embedder = SentenceTransformer(model_name, trust_remote_code=True)\n",
    "    if not \"static\" in model_name:\n",
    "        embedder.max_seq_length = 512\n",
    "    if model_name == \"intfloat/multilingual-e5-small\":\n",
    "        X = embedder.encode([\"passage: \" + t for t in text],convert_to_numpy=True)\n",
    "    else:\n",
    "        X = embedder.encode(text,convert_to_numpy=True)\n",
    "    print(f\"Completed embeddings with {model_name}\")\n",
    "    \n",
    "    scoring = [\"accuracy\", \"balanced_accuracy\", \"f1_weighted\"]\n",
    "\n",
    "    cls = LogisticRegression(random_state=0, class_weight='balanced', max_iter=1000)\n",
    "    cv = RepeatedStratifiedKFold(n_splits=10, n_repeats=10, random_state=42)\n",
    "    cv_results = pd.DataFrame(\n",
    "        cross_validate(\n",
    "            cls,\n",
    "            X,\n",
    "            y,\n",
    "            scoring=scoring,\n",
    "            cv=cv,\n",
    "            return_train_score=True,\n",
    "            return_estimator=True,\n",
    "        )\n",
    "    ).assign(model_name = model_name)\n",
    "    \n",
    "    report = pd.concat([report, cv_results])\n",
    "    print(f\"Done with {model_name}\")\n",
    "\n",
    "cv_scores = ['train_accuracy',\n",
    "             'test_accuracy',\n",
    "             'train_balanced_accuracy',\n",
    "             'test_balanced_accuracy',\n",
    "             'train_f1_weighted',\n",
    "             'test_f1_weighted']\n",
    "\n",
    "\n",
    "summary = (report[cv_scores + ['model_name']].\n",
    "           groupby('model_name').\n",
    "           aggregate([\"mean\", \"std\"]).\n",
    "           T\n",
    "          )\n",
    "\n",
    "# Define a function to apply styling\n",
    "def highlight_test_rows(row):\n",
    "    if 'test' in row.name[0]:\n",
    "        return ['font-weight: bold'] * len(row)\n",
    "    return [''] * len(row)\n",
    "\n",
    "styled_summary = summary.style.apply(highlight_test_rows, axis=1).format(precision=3) \n",
    "\n",
    "styled_summary"
   ]
  },
  {
   "cell_type": "code",
   "execution_count": null,
   "metadata": {},
   "outputs": [],
   "source": []
  }
 ],
 "metadata": {
  "kernelspec": {
   "display_name": "Python 3 (ipykernel)",
   "language": "python",
   "name": "python3"
  },
  "language_info": {
   "codemirror_mode": {
    "name": "ipython",
    "version": 3
   },
   "file_extension": ".py",
   "mimetype": "text/x-python",
   "name": "python",
   "nbconvert_exporter": "python",
   "pygments_lexer": "ipython3",
   "version": "3.10.5"
  }
 },
 "nbformat": 4,
 "nbformat_minor": 4
}
